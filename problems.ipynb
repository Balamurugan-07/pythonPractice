{
 "cells": [
  {
   "cell_type": "markdown",
   "metadata": {},
   "source": [
    "1.\tSlicing last 2 items in a list [1,2,3,4,5,6]"
   ]
  },
  {
   "cell_type": "code",
   "execution_count": null,
   "metadata": {},
   "outputs": [],
   "source": [
    "myList = [1,2,3,4,5,6]\n",
    "print(myList[-2:])"
   ]
  },
  {
   "cell_type": "markdown",
   "metadata": {},
   "source": [
    "2. Slicing first 3 characters in a string \"HEXAWARE\""
   ]
  },
  {
   "cell_type": "code",
   "execution_count": null,
   "metadata": {},
   "outputs": [],
   "source": [
    "name = \"HEXAWARE\"\n",
    "print(name[0:3])"
   ]
  },
  {
   "cell_type": "markdown",
   "metadata": {},
   "source": [
    "3.\tAdding 2 strings \"GOOD\" \"BAD\""
   ]
  },
  {
   "cell_type": "code",
   "execution_count": null,
   "metadata": {},
   "outputs": [],
   "source": [
    "word = \"Good\" + \"Bad\"\n",
    "print(word)"
   ]
  },
  {
   "cell_type": "markdown",
   "metadata": {},
   "source": [
    "4. Create a dictionary with your Name, Age, Education"
   ]
  },
  {
   "cell_type": "code",
   "execution_count": null,
   "metadata": {},
   "outputs": [],
   "source": [
    "myProfile = {\n",
    "  \"name\": \"Balamurugan\",\n",
    "  \"age\": 21,\n",
    "  \"education\": [\"SSLC\", \"HSC\", \"B.Tech\"]\n",
    "}\n",
    "print(myProfile)"
   ]
  },
  {
   "cell_type": "markdown",
   "metadata": {},
   "source": [
    "5. Printing the keys and values in a dictionary"
   ]
  },
  {
   "cell_type": "code",
   "execution_count": null,
   "metadata": {},
   "outputs": [],
   "source": [
    "print(myProfile.keys())\n",
    "print(myProfile.values())\n",
    "print(myProfile.items())"
   ]
  },
  {
   "cell_type": "markdown",
   "metadata": {},
   "source": [
    "6.\tCreating a function that can be used to add 2 variables?"
   ]
  },
  {
   "cell_type": "code",
   "execution_count": null,
   "metadata": {},
   "outputs": [],
   "source": [
    "def addTwoVariables(a, b):\n",
    "  try:\n",
    "    print(a + b)\n",
    "  except TypeError:\n",
    "    print(\"Invalid Types...\")\n",
    "\n",
    "addTwoVariables(\"Bala\", 1)"
   ]
  },
  {
   "cell_type": "markdown",
   "metadata": {},
   "source": [
    "9.\tCreate a funnction that accepts string as an input and prints \"hello {String}\""
   ]
  },
  {
   "cell_type": "code",
   "execution_count": null,
   "metadata": {},
   "outputs": [],
   "source": [
    "def printHello(str):\n",
    "  print(f\"Hello {str}\")\n",
    "\n",
    "printHello(\"Bala\")"
   ]
  },
  {
   "cell_type": "markdown",
   "metadata": {},
   "source": [
    "10.\tDifference between *args and **kwargs\n",
    "`*args` and `**kwargs` are special syntax in python that allows a function to take variable number of arguments.\n",
    "\n",
    "- *args means non-keyword arguments. Here the arguments are received as a tuple upon which tuple operations can be performed\n",
    "\n",
    "- **kwargs means keyword arguments. Here the arguments are received as a dictionary upon which dict operations can be performed."
   ]
  },
  {
   "cell_type": "markdown",
   "metadata": {},
   "source": [
    "11.\tUse *args in a function"
   ]
  },
  {
   "cell_type": "code",
   "execution_count": null,
   "metadata": {},
   "outputs": [],
   "source": [
    "def adder(*numbers):\n",
    "  sum = 0\n",
    "  for i in numbers:\n",
    "    sum += i\n",
    "  return sum\n",
    "\n",
    "print(adder(1,2))\n",
    "print(adder(1,2,3))\n",
    "print(adder(1,2,3,4))"
   ]
  },
  {
   "cell_type": "markdown",
   "metadata": {},
   "source": [
    "12.\tUse **kwargs in a function"
   ]
  },
  {
   "cell_type": "code",
   "execution_count": null,
   "metadata": {},
   "outputs": [],
   "source": [
    "def viewData(**data):\n",
    "  for key, value in data.items():\n",
    "    print(f'{key} : {value}')\n",
    "\n",
    "viewData(FirstName=\"Bala\", LastName=\"Murugan\")\n",
    "viewData(FirstName=\"Karan\", LastName=\"L\", Age=\"22\", Education=\"B.Tech\")"
   ]
  },
  {
   "cell_type": "markdown",
   "metadata": {},
   "source": [
    "13.\tCreate a simple python class with a constructor and a function"
   ]
  },
  {
   "cell_type": "code",
   "execution_count": null,
   "metadata": {},
   "outputs": [],
   "source": [
    "class Sample:\n",
    "  def __init__(self):\n",
    "    print(\"Class created\")\n",
    "  def func(self):\n",
    "    print(\"Member function called\")\n",
    "\n",
    "obj = Sample()\n",
    "obj.func()"
   ]
  },
  {
   "cell_type": "markdown",
   "metadata": {},
   "source": [
    "14.\tUse inheritance with 2 classes"
   ]
  },
  {
   "cell_type": "code",
   "execution_count": null,
   "metadata": {},
   "outputs": [],
   "source": [
    "class Parent:\n",
    "  def __init__(self):\n",
    "    print(\"Parent class created\")\n",
    "  def func1(self):\n",
    "    print(\"Parent class member function\")\n",
    "\n",
    "class Child(Parent):\n",
    "  def __init__(self):\n",
    "    super(Parent)\n",
    "    print(\"Child class created\")\n",
    "  def func2(self):\n",
    "    print(\"Child class member function\")\n",
    "\n",
    "obj = Child()\n",
    "obj.func2()"
   ]
  },
  {
   "cell_type": "markdown",
   "metadata": {},
   "source": [
    "15.\tCreate a json from python and dictionary and python dictionary from json"
   ]
  },
  {
   "cell_type": "code",
   "execution_count": 21,
   "metadata": {},
   "outputs": [
    {
     "name": "stdout",
     "output_type": "stream",
     "text": [
      "{'name': 'Balamurugan', 'age': '21'}\n"
     ]
    }
   ],
   "source": [
    "import json\n",
    "myProfile = {\n",
    "  \"name\":\"Balamurugan\",\n",
    "  \"age\":\"21\"\n",
    "}\n",
    "data = json.dumps(myProfile)\n",
    "with open(\"output/output_json.json\", \"w\") as file:\n",
    "  file.write(data)\n",
    "\n",
    "with open(\"output/output_json.json\", \"r\") as file:\n",
    "  data2 = json.load(file)\n",
    "  print(data2)"
   ]
  },
  {
   "cell_type": "markdown",
   "metadata": {},
   "source": [
    "17.\tCreate a file and print todays date and time using python"
   ]
  },
  {
   "cell_type": "code",
   "execution_count": 22,
   "metadata": {},
   "outputs": [],
   "source": [
    "import datetime\n",
    "with open(\"output/output_datetime.txt\", \"w\") as file:\n",
    "  file.write(str(datetime.datetime.now()))"
   ]
  },
  {
   "cell_type": "markdown",
   "metadata": {},
   "source": [
    "18.\tCreate a folder and inside it create 3 different files with some data inside it"
   ]
  },
  {
   "cell_type": "code",
   "execution_count": 23,
   "metadata": {},
   "outputs": [],
   "source": [
    "import os\n",
    "\n",
    "os.system(\"mkdir folder\")\n",
    "\n",
    "for i in range(1,4):\n",
    "  with open(f\"folder/file{i}.txt\", \"w\") as file:\n",
    "    file.write(\"hello\")"
   ]
  },
  {
   "cell_type": "markdown",
   "metadata": {},
   "source": [
    "19.\tWrite a programme to send email using python"
   ]
  },
  {
   "cell_type": "code",
   "execution_count": 10,
   "metadata": {},
   "outputs": [],
   "source": [
    "import smtplib, json\n",
    "\n",
    "with open(\"credentials.json\", 'r') as file:\n",
    "  credentials = json.load(file)\n",
    "\n",
    "try:\n",
    "  connection = smtplib.SMTP('smtp-mail.outlook.com', 587)\n",
    "  connection.ehlo()\n",
    "  connection.starttls()\n",
    "  connection.login(credentials.get('email'), credentials.get('password'))\n",
    "  connection.sendmail(credentials.get('email'), credentials.get('email'), 'Subject:Hello from python\\n\\nDear Bala,\\n Your python program works!!\\nThank you')\n",
    "  connection.quit()\n",
    "except smtplib.SMTPException as e: \n",
    "  print(\"Error\")\n",
    "  print(e)"
   ]
  },
  {
   "cell_type": "markdown",
   "metadata": {},
   "source": [
    "20.\tWrite a programe to create an excel sheet and store some data inside  it"
   ]
  },
  {
   "cell_type": "code",
   "execution_count": 24,
   "metadata": {},
   "outputs": [],
   "source": [
    "import openpyxl as xl\n",
    "\n",
    "workbook = xl.Workbook()\n",
    "sheet = workbook.active\n",
    "sheet['A1'].value = \"Name\"\n",
    "sheet[\"B1\"].value = \"Age\"\n",
    "\n",
    "students = [{\n",
    "  \"name\":\"Bala\",\n",
    "  \"age\":21\n",
    "},\n",
    "{\n",
    "  \"name\":\"Karan\",\n",
    "  \"age\":22\n",
    "}\n",
    "]\n",
    "\n",
    "for i in range(0, len(students)):\n",
    "  sheet['A'+str(i+2)].value = students[i].get(\"name\")\n",
    "  sheet['B'+str(i+2)].value = students[i].get(\"age\")\n",
    "\n",
    "workbook.save(filename=\"output/output_spreadsheet.xlsx\")"
   ]
  },
  {
   "cell_type": "markdown",
   "metadata": {},
   "source": [
    "22.\tWrite a program to print the fibanocci series using recursion."
   ]
  },
  {
   "cell_type": "code",
   "execution_count": null,
   "metadata": {},
   "outputs": [],
   "source": [
    "def fibonacci(n):\n",
    "  if n <= 1: return n\n",
    "  else: return(fibonacci(n-1)+fibonacci(n-2))\n",
    "\n",
    "value = 10\n",
    "if value <= 0: print(\"Only positive numbers\")\n",
    "else:\n",
    "  print([fibonacci(i) for i in range(value)])"
   ]
  },
  {
   "cell_type": "markdown",
   "metadata": {},
   "source": [
    "23.\tWrite a program to filter the data using lamda function."
   ]
  },
  {
   "cell_type": "code",
   "execution_count": null,
   "metadata": {},
   "outputs": [],
   "source": [
    "numbers = [1,2,3,4,5,6,7,8,9,10]\n",
    "\n",
    "even_numbers = [s for s in filter(lambda x:x%2==0, numbers)]\n",
    "print(even_numbers)"
   ]
  },
  {
   "cell_type": "markdown",
   "metadata": {},
   "source": [
    "24.\twrite a program to convert HTML data into string data and vice-versa."
   ]
  },
  {
   "cell_type": "code",
   "execution_count": 28,
   "metadata": {},
   "outputs": [],
   "source": [
    "with open(\"index.html\", 'r') as file:\n",
    "  html_data = file.readlines()\n",
    "\n",
    "with open(\"output/output_html.html\", 'w') as file:\n",
    "  file.writelines(html_data)"
   ]
  },
  {
   "cell_type": "markdown",
   "metadata": {},
   "source": [
    "25.\tWrite a program to take a screenshot."
   ]
  },
  {
   "cell_type": "code",
   "execution_count": null,
   "metadata": {},
   "outputs": [],
   "source": [
    "import numpy as np\n",
    "import cv2 as cv\n",
    "import pyautogui as gui\n",
    "\n",
    "image = gui.screenshot()\n",
    "image = cv.cvtColor(np.array(image), cv.COLOR_RGB2BGR)\n",
    "cv.imwrite(\"output/output_screenshot.png\", image)"
   ]
  },
  {
   "cell_type": "markdown",
   "metadata": {},
   "source": [
    "26.\tWrite all the even numbers using list comprehension."
   ]
  },
  {
   "cell_type": "code",
   "execution_count": null,
   "metadata": {},
   "outputs": [],
   "source": [
    "numbers = [1,2,3,4,5,6,7,8,9,10]\n",
    "\n",
    "even_numbers = [s for s in numbers if(s%2==0)]\n",
    "print(even_numbers)"
   ]
  }
 ],
 "metadata": {
  "interpreter": {
   "hash": "2be5faf79681da6f2a61fdfdd5405d65d042280f7fba6178067603e3a2925119"
  },
  "kernelspec": {
   "display_name": "Python 3.10.2 64-bit",
   "language": "python",
   "name": "python3"
  },
  "language_info": {
   "codemirror_mode": {
    "name": "ipython",
    "version": 3
   },
   "file_extension": ".py",
   "mimetype": "text/x-python",
   "name": "python",
   "nbconvert_exporter": "python",
   "pygments_lexer": "ipython3",
   "version": "3.9.2"
  },
  "orig_nbformat": 4
 },
 "nbformat": 4,
 "nbformat_minor": 2
}
